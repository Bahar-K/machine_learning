{
 "cells": [
  {
   "cell_type": "markdown",
   "id": "4b2acf29-43dc-45a7-baae-8f94aca9f769",
   "metadata": {
    "tags": []
   },
   "source": [
    "# Machine Learning\n",
    "## 1.Supervised Learning\n",
    "### -- Regression\n",
    "### -- Classification \n",
    "\n",
    "## 2.UnSupervised Learning\n",
    "### -- Clustering\n"
   ]
  },
  {
   "cell_type": "markdown",
   "id": "72085379-6805-4316-8c24-fb2b3c87fa79",
   "metadata": {},
   "source": [
    "### LINEAR REGRESSION\n"
   ]
  },
  {
   "cell_type": "code",
   "execution_count": 1,
   "id": "6f8612a5-0233-4e12-9ec4-00a42e21ba8c",
   "metadata": {},
   "outputs": [],
   "source": [
    "import numpy as np\n",
    "import pandas as pd\n",
    "import matplotlib.pyplot as plt\n",
    "import seaborn as sns\n",
    "\n",
    "# SORU 1: Neden numpy, pandas,matplotlib,seaborn yüklendi. Özellikleri neler?\n",
    "\n",
    "\n",
    "pd.set_option('display.float_format', lambda x: '%.2f' % x)\n",
    "\n",
    "from sklearn.linear_model import LinearRegression\n",
    "from sklearn.metrics import mean_squared_error, mean_absolute_error\n",
    "from sklearn.model_selection import train_test_split, cross_val_score\n"
   ]
  },
  {
   "cell_type": "markdown",
   "id": "89532c70-fb52-4028-9aa8-8950224c0cc6",
   "metadata": {
    "tags": []
   },
   "source": [
    "### Cevap 1\n",
    "Numpy büyük sayılarla,çok boyutlu dizilerle ve matrislerle işlemler yapmamızı kolaylaştırıyor. <br>\n",
    "Pandas dataframeler ile işlem yapmamızı sağlar.<br>\n",
    "Matplotlib veri görselleştirmesinde kullandığımız temel python kütüphanesidir. 2 ve 3 boyutlu çizimler yapmamızı sağlar.<br>\n",
    "Seaborn Python'da ilgi çekici ve bilgilendirici istatistiksel grafikler yapmak için kullanılan bir kütüphanedir.<br>"
   ]
  },
  {
   "cell_type": "code",
   "execution_count": 5,
   "id": "457af9c4-f7a0-444e-bffa-4153203d9d6b",
   "metadata": {},
   "outputs": [],
   "source": [
    "df = pd.read_csv(\"advertising.csv\")\n",
    "# csv formaatında olan bir dosyayı okuyoruz."
   ]
  },
  {
   "cell_type": "code",
   "execution_count": 6,
   "id": "834705ef-cad9-429f-8388-7a8437f87edf",
   "metadata": {},
   "outputs": [
    {
     "data": {
      "text/plain": [
       "(200, 4)"
      ]
     },
     "execution_count": 6,
     "metadata": {},
     "output_type": "execute_result"
    }
   ],
   "source": [
    "df.shape"
   ]
  },
  {
   "cell_type": "code",
   "execution_count": 7,
   "id": "c013b212-1d70-4cea-928d-56b6606a23d3",
   "metadata": {},
   "outputs": [
    {
     "data": {
      "text/html": [
       "<div>\n",
       "<style scoped>\n",
       "    .dataframe tbody tr th:only-of-type {\n",
       "        vertical-align: middle;\n",
       "    }\n",
       "\n",
       "    .dataframe tbody tr th {\n",
       "        vertical-align: top;\n",
       "    }\n",
       "\n",
       "    .dataframe thead th {\n",
       "        text-align: right;\n",
       "    }\n",
       "</style>\n",
       "<table border=\"1\" class=\"dataframe\">\n",
       "  <thead>\n",
       "    <tr style=\"text-align: right;\">\n",
       "      <th></th>\n",
       "      <th>TV</th>\n",
       "      <th>radio</th>\n",
       "      <th>newspaper</th>\n",
       "      <th>sales</th>\n",
       "    </tr>\n",
       "  </thead>\n",
       "  <tbody>\n",
       "    <tr>\n",
       "      <th>0</th>\n",
       "      <td>230.10</td>\n",
       "      <td>37.80</td>\n",
       "      <td>69.20</td>\n",
       "      <td>22.10</td>\n",
       "    </tr>\n",
       "    <tr>\n",
       "      <th>1</th>\n",
       "      <td>44.50</td>\n",
       "      <td>39.30</td>\n",
       "      <td>45.10</td>\n",
       "      <td>10.40</td>\n",
       "    </tr>\n",
       "    <tr>\n",
       "      <th>2</th>\n",
       "      <td>17.20</td>\n",
       "      <td>45.90</td>\n",
       "      <td>69.30</td>\n",
       "      <td>9.30</td>\n",
       "    </tr>\n",
       "    <tr>\n",
       "      <th>3</th>\n",
       "      <td>151.50</td>\n",
       "      <td>41.30</td>\n",
       "      <td>58.50</td>\n",
       "      <td>18.50</td>\n",
       "    </tr>\n",
       "    <tr>\n",
       "      <th>4</th>\n",
       "      <td>180.80</td>\n",
       "      <td>10.80</td>\n",
       "      <td>58.40</td>\n",
       "      <td>12.90</td>\n",
       "    </tr>\n",
       "  </tbody>\n",
       "</table>\n",
       "</div>"
      ],
      "text/plain": [
       "      TV  radio  newspaper  sales\n",
       "0 230.10  37.80      69.20  22.10\n",
       "1  44.50  39.30      45.10  10.40\n",
       "2  17.20  45.90      69.30   9.30\n",
       "3 151.50  41.30      58.50  18.50\n",
       "4 180.80  10.80      58.40  12.90"
      ]
     },
     "execution_count": 7,
     "metadata": {},
     "output_type": "execute_result"
    }
   ],
   "source": [
    "df.head(5)"
   ]
  },
  {
   "cell_type": "code",
   "execution_count": 8,
   "id": "558b9ef9-83bd-4b53-95b2-19a06f843eaa",
   "metadata": {},
   "outputs": [
    {
     "data": {
      "text/html": [
       "<div>\n",
       "<style scoped>\n",
       "    .dataframe tbody tr th:only-of-type {\n",
       "        vertical-align: middle;\n",
       "    }\n",
       "\n",
       "    .dataframe tbody tr th {\n",
       "        vertical-align: top;\n",
       "    }\n",
       "\n",
       "    .dataframe thead th {\n",
       "        text-align: right;\n",
       "    }\n",
       "</style>\n",
       "<table border=\"1\" class=\"dataframe\">\n",
       "  <thead>\n",
       "    <tr style=\"text-align: right;\">\n",
       "      <th></th>\n",
       "      <th>TV</th>\n",
       "      <th>radio</th>\n",
       "      <th>newspaper</th>\n",
       "      <th>sales</th>\n",
       "    </tr>\n",
       "  </thead>\n",
       "  <tbody>\n",
       "    <tr>\n",
       "      <th>195</th>\n",
       "      <td>38.20</td>\n",
       "      <td>3.70</td>\n",
       "      <td>13.80</td>\n",
       "      <td>7.60</td>\n",
       "    </tr>\n",
       "    <tr>\n",
       "      <th>196</th>\n",
       "      <td>94.20</td>\n",
       "      <td>4.90</td>\n",
       "      <td>8.10</td>\n",
       "      <td>9.70</td>\n",
       "    </tr>\n",
       "    <tr>\n",
       "      <th>197</th>\n",
       "      <td>177.00</td>\n",
       "      <td>9.30</td>\n",
       "      <td>6.40</td>\n",
       "      <td>12.80</td>\n",
       "    </tr>\n",
       "    <tr>\n",
       "      <th>198</th>\n",
       "      <td>283.60</td>\n",
       "      <td>42.00</td>\n",
       "      <td>66.20</td>\n",
       "      <td>25.50</td>\n",
       "    </tr>\n",
       "    <tr>\n",
       "      <th>199</th>\n",
       "      <td>232.10</td>\n",
       "      <td>8.60</td>\n",
       "      <td>8.70</td>\n",
       "      <td>13.40</td>\n",
       "    </tr>\n",
       "  </tbody>\n",
       "</table>\n",
       "</div>"
      ],
      "text/plain": [
       "        TV  radio  newspaper  sales\n",
       "195  38.20   3.70      13.80   7.60\n",
       "196  94.20   4.90       8.10   9.70\n",
       "197 177.00   9.30       6.40  12.80\n",
       "198 283.60  42.00      66.20  25.50\n",
       "199 232.10   8.60       8.70  13.40"
      ]
     },
     "execution_count": 8,
     "metadata": {},
     "output_type": "execute_result"
    }
   ],
   "source": [
    "df.tail()\n",
    "# SORU 2: BURADAKİ BAĞIMSIZ VE BAĞIMLI DEĞİŞKENLER NEDİR?"
   ]
  },
  {
   "cell_type": "code",
   "execution_count": 9,
   "id": "5d04a07a-9619-4d2f-87d9-685de2e11dbd",
   "metadata": {},
   "outputs": [
    {
     "data": {
      "text/html": [
       "<div>\n",
       "<style scoped>\n",
       "    .dataframe tbody tr th:only-of-type {\n",
       "        vertical-align: middle;\n",
       "    }\n",
       "\n",
       "    .dataframe tbody tr th {\n",
       "        vertical-align: top;\n",
       "    }\n",
       "\n",
       "    .dataframe thead th {\n",
       "        text-align: right;\n",
       "    }\n",
       "</style>\n",
       "<table border=\"1\" class=\"dataframe\">\n",
       "  <thead>\n",
       "    <tr style=\"text-align: right;\">\n",
       "      <th></th>\n",
       "      <th>count</th>\n",
       "      <th>mean</th>\n",
       "      <th>std</th>\n",
       "      <th>min</th>\n",
       "      <th>25%</th>\n",
       "      <th>50%</th>\n",
       "      <th>75%</th>\n",
       "      <th>max</th>\n",
       "    </tr>\n",
       "  </thead>\n",
       "  <tbody>\n",
       "    <tr>\n",
       "      <th>TV</th>\n",
       "      <td>200.00</td>\n",
       "      <td>147.04</td>\n",
       "      <td>85.85</td>\n",
       "      <td>0.70</td>\n",
       "      <td>74.38</td>\n",
       "      <td>149.75</td>\n",
       "      <td>218.82</td>\n",
       "      <td>296.40</td>\n",
       "    </tr>\n",
       "    <tr>\n",
       "      <th>radio</th>\n",
       "      <td>200.00</td>\n",
       "      <td>23.26</td>\n",
       "      <td>14.85</td>\n",
       "      <td>0.00</td>\n",
       "      <td>9.97</td>\n",
       "      <td>22.90</td>\n",
       "      <td>36.52</td>\n",
       "      <td>49.60</td>\n",
       "    </tr>\n",
       "    <tr>\n",
       "      <th>newspaper</th>\n",
       "      <td>200.00</td>\n",
       "      <td>30.55</td>\n",
       "      <td>21.78</td>\n",
       "      <td>0.30</td>\n",
       "      <td>12.75</td>\n",
       "      <td>25.75</td>\n",
       "      <td>45.10</td>\n",
       "      <td>114.00</td>\n",
       "    </tr>\n",
       "    <tr>\n",
       "      <th>sales</th>\n",
       "      <td>200.00</td>\n",
       "      <td>14.02</td>\n",
       "      <td>5.22</td>\n",
       "      <td>1.60</td>\n",
       "      <td>10.38</td>\n",
       "      <td>12.90</td>\n",
       "      <td>17.40</td>\n",
       "      <td>27.00</td>\n",
       "    </tr>\n",
       "  </tbody>\n",
       "</table>\n",
       "</div>"
      ],
      "text/plain": [
       "           count   mean   std  min   25%    50%    75%    max\n",
       "TV        200.00 147.04 85.85 0.70 74.38 149.75 218.82 296.40\n",
       "radio     200.00  23.26 14.85 0.00  9.97  22.90  36.52  49.60\n",
       "newspaper 200.00  30.55 21.78 0.30 12.75  25.75  45.10 114.00\n",
       "sales     200.00  14.02  5.22 1.60 10.38  12.90  17.40  27.00"
      ]
     },
     "execution_count": 9,
     "metadata": {},
     "output_type": "execute_result"
    }
   ],
   "source": [
    "df.describe().T\n",
    "# Aykırı değerleri saptamak için kullanılan fonksiyonlardan biri\n"
   ]
  },
  {
   "cell_type": "code",
   "execution_count": 10,
   "id": "dee0caf5-ecb0-483d-a587-552dab71ed34",
   "metadata": {},
   "outputs": [],
   "source": [
    "# SORU 3: Linear fonksiyonun denklemi nedir?"
   ]
  },
  {
   "cell_type": "code",
   "execution_count": 11,
   "id": "c3d28289-1cf3-4efe-8dab-cf4af0f941d0",
   "metadata": {},
   "outputs": [
    {
     "data": {
      "text/plain": [
       "0     22.10\n",
       "1     10.40\n",
       "2      9.30\n",
       "3     18.50\n",
       "4     12.90\n",
       "       ... \n",
       "195    7.60\n",
       "196    9.70\n",
       "197   12.80\n",
       "198   25.50\n",
       "199   13.40\n",
       "Name: sales, Length: 200, dtype: float64"
      ]
     },
     "execution_count": 11,
     "metadata": {},
     "output_type": "execute_result"
    }
   ],
   "source": [
    "df[\"sales\"]"
   ]
  },
  {
   "cell_type": "code",
   "execution_count": 12,
   "id": "c4918cad-c7f8-449b-8aac-f1e5991195f6",
   "metadata": {},
   "outputs": [
    {
     "data": {
      "text/html": [
       "<div>\n",
       "<style scoped>\n",
       "    .dataframe tbody tr th:only-of-type {\n",
       "        vertical-align: middle;\n",
       "    }\n",
       "\n",
       "    .dataframe tbody tr th {\n",
       "        vertical-align: top;\n",
       "    }\n",
       "\n",
       "    .dataframe thead th {\n",
       "        text-align: right;\n",
       "    }\n",
       "</style>\n",
       "<table border=\"1\" class=\"dataframe\">\n",
       "  <thead>\n",
       "    <tr style=\"text-align: right;\">\n",
       "      <th></th>\n",
       "      <th>sales</th>\n",
       "    </tr>\n",
       "  </thead>\n",
       "  <tbody>\n",
       "    <tr>\n",
       "      <th>0</th>\n",
       "      <td>22.10</td>\n",
       "    </tr>\n",
       "    <tr>\n",
       "      <th>1</th>\n",
       "      <td>10.40</td>\n",
       "    </tr>\n",
       "    <tr>\n",
       "      <th>2</th>\n",
       "      <td>9.30</td>\n",
       "    </tr>\n",
       "    <tr>\n",
       "      <th>3</th>\n",
       "      <td>18.50</td>\n",
       "    </tr>\n",
       "    <tr>\n",
       "      <th>4</th>\n",
       "      <td>12.90</td>\n",
       "    </tr>\n",
       "    <tr>\n",
       "      <th>...</th>\n",
       "      <td>...</td>\n",
       "    </tr>\n",
       "    <tr>\n",
       "      <th>195</th>\n",
       "      <td>7.60</td>\n",
       "    </tr>\n",
       "    <tr>\n",
       "      <th>196</th>\n",
       "      <td>9.70</td>\n",
       "    </tr>\n",
       "    <tr>\n",
       "      <th>197</th>\n",
       "      <td>12.80</td>\n",
       "    </tr>\n",
       "    <tr>\n",
       "      <th>198</th>\n",
       "      <td>25.50</td>\n",
       "    </tr>\n",
       "    <tr>\n",
       "      <th>199</th>\n",
       "      <td>13.40</td>\n",
       "    </tr>\n",
       "  </tbody>\n",
       "</table>\n",
       "<p>200 rows × 1 columns</p>\n",
       "</div>"
      ],
      "text/plain": [
       "     sales\n",
       "0    22.10\n",
       "1    10.40\n",
       "2     9.30\n",
       "3    18.50\n",
       "4    12.90\n",
       "..     ...\n",
       "195   7.60\n",
       "196   9.70\n",
       "197  12.80\n",
       "198  25.50\n",
       "199  13.40\n",
       "\n",
       "[200 rows x 1 columns]"
      ]
     },
     "execution_count": 12,
     "metadata": {},
     "output_type": "execute_result"
    }
   ],
   "source": [
    "df[[\"sales\"]]"
   ]
  },
  {
   "cell_type": "code",
   "execution_count": 13,
   "id": "ea65a644-c74e-42e8-aef2-14ae5ab626d2",
   "metadata": {},
   "outputs": [
    {
     "data": {
      "text/plain": [
       "pandas.core.series.Series"
      ]
     },
     "execution_count": 13,
     "metadata": {},
     "output_type": "execute_result"
    }
   ],
   "source": [
    "type(df[\"sales\"])"
   ]
  },
  {
   "cell_type": "code",
   "execution_count": 14,
   "id": "2e66ab06-10a5-4ad2-8248-cd3e4b6b9212",
   "metadata": {},
   "outputs": [
    {
     "data": {
      "text/plain": [
       "pandas.core.frame.DataFrame"
      ]
     },
     "execution_count": 14,
     "metadata": {},
     "output_type": "execute_result"
    }
   ],
   "source": [
    "type(df[[\"sales\"]])"
   ]
  },
  {
   "cell_type": "code",
   "execution_count": 17,
   "id": "2a75fd69-83a3-457c-b9d3-ad6abb00ef16",
   "metadata": {},
   "outputs": [
    {
     "data": {
      "text/plain": [
       "7.032593549127694"
      ]
     },
     "execution_count": 17,
     "metadata": {},
     "output_type": "execute_result"
    }
   ],
   "source": [
    "reg_model.intercept_[0]"
   ]
  },
  {
   "cell_type": "code",
   "execution_count": 19,
   "id": "b819bfea-0a4b-4ee3-91ca-b145620ef9d7",
   "metadata": {},
   "outputs": [
    {
     "data": {
      "text/plain": [
       "0.04753664043301976"
      ]
     },
     "execution_count": 19,
     "metadata": {},
     "output_type": "execute_result"
    }
   ],
   "source": [
    "reg_model.coef_[0][0]"
   ]
  },
  {
   "cell_type": "code",
   "execution_count": 20,
   "id": "92c79e29-bfe2-44df-8230-bcbcc3e63cab",
   "metadata": {},
   "outputs": [
    {
     "name": "stdout",
     "output_type": "stream",
     "text": [
      "Sabit - bias değeri:  7.032593549127694\n",
      "Katsayı değeri     :  0.04753664043301976\n",
      "30.80091376563757\n"
     ]
    }
   ],
   "source": [
    "# y bagımlı ve X bagımsız degiskenler\n",
    "X = df[[\"TV\"]]\n",
    "y = df[[\"sales\"]]\n",
    "\n",
    "# Model\n",
    "reg_model = LinearRegression().fit(X,y)\n",
    "\n",
    "# y_hat = b + w*X \n",
    "\n",
    "# sabit (b - bias)\n",
    "print(\"Sabit - bias değeri: \",reg_model.intercept_[0])\n",
    "\n",
    "# TV'nin katsayısı (w1)\n",
    "print(\"Katsayı değeri     : \",reg_model.coef_[0][0])\n",
    "\n",
    "# Tahmin\n",
    "\n",
    "# b 23, w 1 iken 500 birimlik TV harcaması olsa ne kadar satış olması beklenir? \n",
    "# Bizim bu işlemi yaparken yaptığımız şeyi blgisayar girdiğimiz her bir değer için hesaplayacak\n",
    "\n",
    "# bu formulden dusun y_hat = b + w*X \n",
    "print(reg_model.intercept_[0] + reg_model.coef_[0][0] * 500)"
   ]
  },
  {
   "cell_type": "code",
   "execution_count": 21,
   "id": "e6fcc873-b983-403f-9bcb-aecce1eaad95",
   "metadata": {},
   "outputs": [
    {
     "data": {
      "image/png": "[encoded data removed]",
      "text/plain": [
       "<Figure size 432x288 with 1 Axes>"
      ]
     },
     "metadata": {
      "needs_background": "light"
     },
     "output_type": "display_data"
    }
   ],
   "source": [
    "# Modelin Görselleştirilmesi\n",
    "g = sns.regplot(x=X, y=y,scatter_kws={'color':'b','s':9},\n",
    "               ci=False,color=\"r\")\n",
    "g.set_title(f\"Model Denklemi: Sales = {round(reg_model.intercept_[0],2)} + TV*{round(reg_model.coef_[0][0],2)}\")\n",
    "g.set_ylabel(\"Satış sayısı\")\n",
    "g.set_xlabel(\"TV Harcamaları\")\n",
    "plt.xlim(-10, 310)\n",
    "plt.ylim(bottom=0)\n",
    "plt.show()"
   ]
  },
  {
   "cell_type": "code",
   "execution_count": 22,
   "id": "8024f690-97e8-4f0d-98eb-4f8c4dd989f4",
   "metadata": {},
   "outputs": [
    {
     "name": "stdout",
     "output_type": "stream",
     "text": [
      "y mean:\n",
      " sales   14.02\n",
      "dtype: float64 \n",
      "y std:\n",
      " sales   5.22\n",
      "dtype: float64\n",
      "MSE:\n",
      " 10.512652915656759\n",
      "RMSE:\n",
      " 3.2423221486546887\n",
      "MAE:\n",
      " 2.549806038927486\n",
      "R-KARE:\n",
      " 0.611875050850071\n"
     ]
    }
   ],
   "source": [
    "\n",
    "# Tahmin Başarısı\n",
    "\n",
    "# Linear Regression ile oluşturduğumuz model ne kadar başarılı\n",
    "# Bunları hesaplamak için bazı hata hesaplama işlemleri var MSE,RMSE,MAE,R-KARE gibi\n",
    "print(\"y mean:\\n\",y.mean(), \"\\ny std:\\n\", y.std())\n",
    "\n",
    "# MSE (Mean Squared Error)\n",
    "y_pred = reg_model.predict(X)\n",
    "print(\"MSE:\\n\",mean_squared_error(y,y_pred))\n",
    "\n",
    "# RMSE (Root Mean Squared Error)\n",
    "print(\"RMSE:\\n\",np.sqrt(mean_squared_error(y,y_pred)))\n",
    "\n",
    "# MAE (Mean Absolute Error)\n",
    "print(\"MAE:\\n\",mean_absolute_error(y,y_pred))\n",
    "\n",
    "# R-KARE\n",
    "print(\"R-KARE:\\n\", reg_model.score(X,y))"
   ]
  },
  {
   "cell_type": "code",
   "execution_count": 24,
   "id": "6bdebf02-04f1-4c99-a343-7ba0b27a9264",
   "metadata": {},
   "outputs": [],
   "source": [
    "#?sns.regplot\n",
    "#?mean_squared_error\n"
   ]
  },
  {
   "cell_type": "markdown",
   "id": "0457878c-ddf5-4a61-a447-4d7cd17a06a4",
   "metadata": {},
   "source": [
    "### Logistic Regression"
   ]
  },
  {
   "cell_type": "code",
   "execution_count": 25,
   "id": "f40259cc-780c-4ba8-a192-fa9236aeb348",
   "metadata": {},
   "outputs": [
    {
     "name": "stdout",
     "output_type": "stream",
     "text": [
      "predicted0 değeri:  [0]\n",
      "predicted1 değeri:  [1]\n"
     ]
    }
   ],
   "source": [
    "import numpy\n",
    "from sklearn import linear_model\n",
    "\n",
    "#X represents the size of a tumor in centimeters.\n",
    "X = numpy.array([3.78, 2.44, 2.09, 0.14, 1.72, 1.65, 4.92, 4.37, 4.96, 4.52, 3.69, 5.88]).reshape(-1,1)\n",
    "\n",
    "#Note: X has to be reshaped into a column from a row for the LogisticRegression() function to work.\n",
    "\n",
    "#y represents whether or not the tumor is cancerous (0 for \"No\", 1 for \"Yes\").\n",
    "# burada y label'lar\n",
    "y = numpy.array([0, 0, 0, 0, 0, 0, 1, 1, 1, 1, 1, 1])\n",
    "\n",
    "logr = linear_model.LogisticRegression()\n",
    "logr.fit(X,y)\n",
    "#predict if tumor is cancerous where the size is 3.46mm:\n",
    "predicted0 = logr.predict(numpy.array([2.03]).reshape(-1,1))\n",
    "predicted1 = logr.predict(numpy.array([5.11]).reshape(-1,1))\n",
    "print(\"predicted0 değeri: \",predicted0)\n",
    "print(\"predicted1 değeri: \",predicted1)"
   ]
  },
  {
   "cell_type": "code",
   "execution_count": 26,
   "id": "647432fb-83cc-4b1d-ba31-6d3824a71def",
   "metadata": {},
   "outputs": [
    {
     "data": {
      "text/plain": [
       "<AxesSubplot:>"
      ]
     },
     "execution_count": 26,
     "metadata": {},
     "output_type": "execute_result"
    },
    {
     "data": {
      "image/png": "[encoded data removed]",
      "text/plain": [
       "<Figure size 432x288 with 1 Axes>"
      ]
     },
     "metadata": {
      "needs_background": "light"
     },
     "output_type": "display_data"
    }
   ],
   "source": [
    "#plot logistic regression curve\n",
    "sns.regplot(x=X, y=y, data=df, logistic=True, ci=None)"
   ]
  },
  {
   "cell_type": "markdown",
   "id": "39d2503b-b38a-40fa-a8ed-29d85c622791",
   "metadata": {},
   "source": [
    "### Clustering (Kümeleme)"
   ]
  },
  {
   "cell_type": "code",
   "execution_count": 27,
   "id": "b1870814-5c24-4cb4-ae17-758f7c458bba",
   "metadata": {},
   "outputs": [
    {
     "data": {
      "image/png": "[encoded data removed]",
      "text/plain": [
       "<Figure size 432x288 with 1 Axes>"
      ]
     },
     "metadata": {
      "needs_background": "light"
     },
     "output_type": "display_data"
    }
   ],
   "source": [
    "# Öncesi\n",
    "import numpy as np\n",
    "import matplotlib.pyplot as plt\n",
    "\n",
    "x = [4, 5, 10, 4, 3, 11, 14 , 6, 10, 12]\n",
    "y = [21, 19, 24, 17, 16, 25, 24, 22, 21, 21]\n",
    "\n",
    "plt.scatter(x, y)\n",
    "plt.show()\n"
   ]
  },
  {
   "cell_type": "code",
   "execution_count": 28,
   "id": "15c8cce1-7b9a-433d-b5e1-297249a75474",
   "metadata": {},
   "outputs": [
    {
     "data": {
      "image/png": "[encoded data removed]",
      "text/plain": [
       "<Figure size 432x288 with 1 Axes>"
      ]
     },
     "metadata": {
      "needs_background": "light"
     },
     "output_type": "display_data"
    }
   ],
   "source": [
    "import numpy as np\n",
    "import matplotlib.pyplot as plt\n",
    "from sklearn.cluster import AgglomerativeClustering\n",
    "\n",
    "x = [4, 5, 10, 4, 3, 11, 14 , 6, 10, 12]\n",
    "y = [21, 19, 24, 17, 16, 25, 24, 22, 21, 21]\n",
    "\n",
    "data = list(zip(x, y))\n",
    "\n",
    "hierarchical_cluster = AgglomerativeClustering(n_clusters=2, affinity='euclidean', linkage='ward')\n",
    "labels = hierarchical_cluster.fit_predict(data)\n",
    "\n",
    "plt.scatter(x, y, c=labels)\n",
    "plt.show()"
   ]
  },
  {
   "cell_type": "code",
   "execution_count": 23,
   "id": "49d5821f-cf58-41a9-aeea-21ad8fbd99a1",
   "metadata": {},
   "outputs": [],
   "source": [
    "# affinity: yakınlık, euclidean: öklid, "
   ]
  },
  {
   "cell_type": "code",
   "execution_count": null,
   "id": "c10897df-5929-4785-b2c7-a58e9549bb00",
   "metadata": {},
   "outputs": [],
   "source": []
  }
 ],
 "metadata": {
  "kernelspec": {
   "display_name": "Python 3 (ipykernel)",
   "language": "python",
   "name": "python3"
  },
  "language_info": {
   "codemirror_mode": {
    "name": "ipython",
    "version": 3
   },
   "file_extension": ".py",
   "mimetype": "text/x-python",
   "name": "python",
   "nbconvert_exporter": "python",
   "pygments_lexer": "ipython3",
   "version": "3.9.12"
  }
 },
 "nbformat": 4,
 "nbformat_minor": 5
}
